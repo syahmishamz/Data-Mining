{
  "nbformat": 4,
  "nbformat_minor": 0,
  "metadata": {
    "colab": {
      "provenance": [],
      "toc_visible": true,
      "authorship_tag": "ABX9TyN4YHVZypO7K2TLuQEEMGut",
      "include_colab_link": true
    },
    "kernelspec": {
      "name": "python3",
      "display_name": "Python 3"
    },
    "language_info": {
      "name": "python"
    }
  },
  "cells": [
    {
      "cell_type": "markdown",
      "metadata": {
        "id": "view-in-github",
        "colab_type": "text"
      },
      "source": [
        "<a href=\"https://colab.research.google.com/github/syahmishamz/Data-Mining/blob/main/Assignment2/AssignmentPart2_Codes_Section04_0371440.ipynb\" target=\"_parent\"><img src=\"https://colab.research.google.com/assets/colab-badge.svg\" alt=\"Open In Colab\"/></a>"
      ]
    },
    {
      "cell_type": "markdown",
      "source": [
        "**Data Mining (ITS61504) Assignment 2**\n",
        "\n",
        "\n",
        "---\n",
        "\n",
        "\n",
        "\n",
        "\n"
      ],
      "metadata": {
        "id": "BADcQB1KOTdo"
      }
    },
    {
      "cell_type": "markdown",
      "source": [
        "**Seting up display**"
      ],
      "metadata": {
        "id": "yTpl3OlhwDdJ"
      }
    },
    {
      "cell_type": "code",
      "execution_count": 1,
      "metadata": {
        "id": "VxtjlfROoDV1"
      },
      "outputs": [],
      "source": [
        "from IPython.display import HTML, display\n",
        "\n",
        "def set_css():\n",
        "  display(HTML('''\n",
        "  <style>\n",
        "    pre {\n",
        "        white-space: pre-wrap;\n",
        "    }\n",
        "  </style>\n",
        "  '''))\n",
        "get_ipython().events.register('pre_run_cell', set_css)"
      ]
    },
    {
      "cell_type": "markdown",
      "source": [
        "#1) Import libraries"
      ],
      "metadata": {
        "id": "P6nyfK-ZBdpA"
      }
    },
    {
      "cell_type": "markdown",
      "source": [
        "**Installation**"
      ],
      "metadata": {
        "id": "oreWu9o2s6zV"
      }
    },
    {
      "cell_type": "code",
      "source": [
        "!pip install memory_profiler"
      ],
      "metadata": {
        "colab": {
          "base_uri": "https://localhost:8080/",
          "height": 126
        },
        "id": "dLA-gt7ysv13",
        "outputId": "f2adf764-89da-4bf4-a355-e07fc42f23e0"
      },
      "execution_count": 2,
      "outputs": [
        {
          "output_type": "display_data",
          "data": {
            "text/plain": [
              "<IPython.core.display.HTML object>"
            ],
            "text/html": [
              "\n",
              "  <style>\n",
              "    pre {\n",
              "        white-space: pre-wrap;\n",
              "    }\n",
              "  </style>\n",
              "  "
            ]
          },
          "metadata": {}
        },
        {
          "output_type": "stream",
          "name": "stdout",
          "text": [
            "Collecting memory_profiler\n",
            "  Downloading memory_profiler-0.61.0-py3-none-any.whl.metadata (20 kB)\n",
            "Requirement already satisfied: psutil in /usr/local/lib/python3.11/dist-packages (from memory_profiler) (5.9.5)\n",
            "Downloading memory_profiler-0.61.0-py3-none-any.whl (31 kB)\n",
            "Installing collected packages: memory_profiler\n",
            "Successfully installed memory_profiler-0.61.0\n"
          ]
        }
      ]
    },
    {
      "cell_type": "markdown",
      "source": [
        "**Libraries**"
      ],
      "metadata": {
        "id": "RHsChg2sBXOE"
      }
    },
    {
      "cell_type": "code",
      "execution_count": 3,
      "metadata": {
        "id": "lRodN33UebXd",
        "colab": {
          "base_uri": "https://localhost:8080/",
          "height": 17
        },
        "outputId": "6f99f6f8-c8ba-40de-8937-a7b7d14c5566"
      },
      "outputs": [
        {
          "output_type": "display_data",
          "data": {
            "text/plain": [
              "<IPython.core.display.HTML object>"
            ],
            "text/html": [
              "\n",
              "  <style>\n",
              "    pre {\n",
              "        white-space: pre-wrap;\n",
              "    }\n",
              "  </style>\n",
              "  "
            ]
          },
          "metadata": {}
        }
      ],
      "source": [
        "import numpy as np\n",
        "import pandas as pd\n",
        "import time\n",
        "import tracemalloc\n",
        "\n",
        "from memory_profiler import profile\n",
        "from mlxtend.frequent_patterns import apriori, fpgrowth\n",
        "from mlxtend.frequent_patterns import association_rules"
      ]
    },
    {
      "cell_type": "markdown",
      "source": [
        "#2) Clone GitHub Repo"
      ],
      "metadata": {
        "id": "5zuu7_iiBjbR"
      }
    },
    {
      "cell_type": "code",
      "source": [
        "!git clone https://github.com/syahmishamz/Data-Mining.git"
      ],
      "metadata": {
        "colab": {
          "base_uri": "https://localhost:8080/",
          "height": 145
        },
        "id": "v-kW2NyFBqP5",
        "outputId": "af9ab525-5a11-42fb-fab4-d0ba17d87d9a"
      },
      "execution_count": 4,
      "outputs": [
        {
          "output_type": "display_data",
          "data": {
            "text/plain": [
              "<IPython.core.display.HTML object>"
            ],
            "text/html": [
              "\n",
              "  <style>\n",
              "    pre {\n",
              "        white-space: pre-wrap;\n",
              "    }\n",
              "  </style>\n",
              "  "
            ]
          },
          "metadata": {}
        },
        {
          "output_type": "stream",
          "name": "stdout",
          "text": [
            "Cloning into 'Data-Mining'...\n",
            "remote: Enumerating objects: 32, done.\u001b[K\n",
            "remote: Counting objects: 100% (32/32), done.\u001b[K\n",
            "remote: Compressing objects: 100% (27/27), done.\u001b[K\n",
            "remote: Total 32 (delta 8), reused 0 (delta 0), pack-reused 0 (from 0)\u001b[K\n",
            "Receiving objects: 100% (32/32), 741.50 KiB | 5.79 MiB/s, done.\n",
            "Resolving deltas: 100% (8/8), done.\n"
          ]
        }
      ]
    },
    {
      "cell_type": "markdown",
      "source": [
        "#3) Load the Dataset"
      ],
      "metadata": {
        "id": "-7BUorDGB1tI"
      }
    },
    {
      "cell_type": "code",
      "source": [
        "file = '/content/Data-Mining/Accidental_Drug_Related_Deaths.csv'"
      ],
      "metadata": {
        "id": "AaL2p0PlB3h_",
        "colab": {
          "base_uri": "https://localhost:8080/",
          "height": 17
        },
        "outputId": "0ed66410-0d42-455e-986f-8b31c1899637"
      },
      "execution_count": 5,
      "outputs": [
        {
          "output_type": "display_data",
          "data": {
            "text/plain": [
              "<IPython.core.display.HTML object>"
            ],
            "text/html": [
              "\n",
              "  <style>\n",
              "    pre {\n",
              "        white-space: pre-wrap;\n",
              "    }\n",
              "  </style>\n",
              "  "
            ]
          },
          "metadata": {}
        }
      ]
    },
    {
      "cell_type": "code",
      "source": [
        "data = pd.read_csv(file)\n",
        "data.head(10)"
      ],
      "metadata": {
        "colab": {
          "base_uri": "https://localhost:8080/",
          "height": 776
        },
        "id": "lfQmUh3QCHnC",
        "outputId": "2c78f1b5-e239-4893-bcf2-e8e755b3a5b6"
      },
      "execution_count": 6,
      "outputs": [
        {
          "output_type": "display_data",
          "data": {
            "text/plain": [
              "<IPython.core.display.HTML object>"
            ],
            "text/html": [
              "\n",
              "  <style>\n",
              "    pre {\n",
              "        white-space: pre-wrap;\n",
              "    }\n",
              "  </style>\n",
              "  "
            ]
          },
          "metadata": {}
        },
        {
          "output_type": "execute_result",
          "data": {
            "text/plain": [
              "         Date      Date Type   Age     Sex   Race Ethnicity Residence City  \\\n",
              "0  05/29/2012  Date of death  37.0    Male  Black       NaN       STAMFORD   \n",
              "1  06/27/2012  Date of death  37.0    Male  White       NaN        NORWICH   \n",
              "2  03/24/2014  Date of death  28.0    Male  White       NaN         HEBRON   \n",
              "3  12/31/2014  Date of death  26.0  Female  White       NaN         BALTIC   \n",
              "4  01/16/2016  Date of death  41.0    Male  White       NaN        SHELTON   \n",
              "5  06/13/2017  Date reported  57.0    Male  White       NaN      BLANDFORD   \n",
              "6  10/20/2015  Date reported  26.0    Male  White       NaN        DANBURY   \n",
              "7  02/02/2017  Date reported  64.0    Male  White       NaN        MILFORD   \n",
              "8  07/03/2018  Date of death  33.0    Male    NaN       NaN            NaN   \n",
              "9  05/08/2013  Date of death  23.0    Male  White       NaN         BETHEL   \n",
              "\n",
              "  Residence County Residence State Injury City  ... Xylazine Gabapentin  \\\n",
              "0        FAIRFIELD             NaN    STAMFORD  ...      NaN        NaN   \n",
              "1       NEW LONDON             NaN     NORWICH  ...      NaN        NaN   \n",
              "2              NaN             NaN      HEBRON  ...      NaN        NaN   \n",
              "3              NaN             NaN         NaN  ...      NaN        NaN   \n",
              "4        FAIRFIELD              CT     SHELTON  ...      NaN        NaN   \n",
              "5          HAMPDEN              MA     ENFIELD  ...      NaN        NaN   \n",
              "6        FAIRFIELD              CT     DANBURY  ...      NaN        NaN   \n",
              "7        NEW HAVEN              CT     MILFORD  ...      NaN        NaN   \n",
              "8              NaN             NaN    HARTFORD  ...      NaN        NaN   \n",
              "9        FAIRFIELD             NaN      BETHEL  ...      NaN        NaN   \n",
              "\n",
              "  Opiate NOS Heroin/Morph/Codeine Other Opioid Any Opioid Other  \\\n",
              "0        NaN                  NaN          NaN        NaN   NaN   \n",
              "1        NaN                  NaN          NaN        NaN   NaN   \n",
              "2        NaN                  NaN          NaN        NaN   NaN   \n",
              "3        NaN                  NaN          NaN        NaN   NaN   \n",
              "4        NaN                  NaN          NaN          Y   NaN   \n",
              "5        NaN                  NaN          NaN        NaN   NaN   \n",
              "6        NaN                  NaN          NaN          Y   NaN   \n",
              "7        NaN                  NaN          NaN        NaN   NaN   \n",
              "8        NaN                  NaN          NaN        NaN   NaN   \n",
              "9        NaN                  NaN          NaN        NaN   NaN   \n",
              "\n",
              "                        ResidenceCityGeo  \\\n",
              "0  STAMFORD, CT\\n(41.051924, -73.539475)   \n",
              "1   NORWICH, CT\\n(41.524304, -72.075821)   \n",
              "2    HEBRON, CT\\n(41.658069, -72.366324)   \n",
              "3    BALTIC, CT\\n(41.617221, -72.085031)   \n",
              "4   SHELTON, CT\\n(41.316843, -73.092968)   \n",
              "5                                    NaN   \n",
              "6   DANBURY, CT\\n(41.393666, -73.451539)   \n",
              "7   MILFORD, CT\\n(41.224276, -73.057564)   \n",
              "8            CT\\n(41.575155, -72.738288)   \n",
              "9    BETHEL, CT\\n(41.371727, -73.407448)   \n",
              "\n",
              "                           InjuryCityGeo  \\\n",
              "0  STAMFORD, CT\\n(41.051924, -73.539475)   \n",
              "1   NORWICH, CT\\n(41.524304, -72.075821)   \n",
              "2    HEBRON, CT\\n(41.658069, -72.366324)   \n",
              "3            CT\\n(41.575155, -72.738288)   \n",
              "4   SHELTON, CT\\n(41.316843, -73.092968)   \n",
              "5   ENFIELD, CT\\n(41.976501, -72.591985)   \n",
              "6   DANBURY, CT\\n(41.393666, -73.451539)   \n",
              "7   MILFORD, CT\\n(41.224276, -73.057564)   \n",
              "8  HARTFORD, CT\\n(41.765775, -72.673356)   \n",
              "9    BETHEL, CT\\n(41.371727, -73.407448)   \n",
              "\n",
              "                               DeathCityGeo  \n",
              "0               CT\\n(41.575155, -72.738288)  \n",
              "1      Norwich, CT\\n(41.524304, -72.075821)  \n",
              "2  Marlborough, CT\\n(41.632043, -72.461309)  \n",
              "3       Baltic, CT\\n(41.617221, -72.085031)  \n",
              "4   Bridgeport, CT\\n(41.179195, -73.189476)  \n",
              "5      Enfield, CT\\n(41.976501, -72.591985)  \n",
              "6      Danbury, CT\\n(41.393666, -73.451539)  \n",
              "7      Milford, CT\\n(41.224276, -73.057564)  \n",
              "8     Hartford, CT\\n(41.765775, -72.673356)  \n",
              "9       Bethel, CT\\n(41.371727, -73.407448)  \n",
              "\n",
              "[10 rows x 48 columns]"
            ],
            "text/html": [
              "\n",
              "  <div id=\"df-229993b0-293b-4101-b74e-094b3280b149\" class=\"colab-df-container\">\n",
              "    <div>\n",
              "<style scoped>\n",
              "    .dataframe tbody tr th:only-of-type {\n",
              "        vertical-align: middle;\n",
              "    }\n",
              "\n",
              "    .dataframe tbody tr th {\n",
              "        vertical-align: top;\n",
              "    }\n",
              "\n",
              "    .dataframe thead th {\n",
              "        text-align: right;\n",
              "    }\n",
              "</style>\n",
              "<table border=\"1\" class=\"dataframe\">\n",
              "  <thead>\n",
              "    <tr style=\"text-align: right;\">\n",
              "      <th></th>\n",
              "      <th>Date</th>\n",
              "      <th>Date Type</th>\n",
              "      <th>Age</th>\n",
              "      <th>Sex</th>\n",
              "      <th>Race</th>\n",
              "      <th>Ethnicity</th>\n",
              "      <th>Residence City</th>\n",
              "      <th>Residence County</th>\n",
              "      <th>Residence State</th>\n",
              "      <th>Injury City</th>\n",
              "      <th>...</th>\n",
              "      <th>Xylazine</th>\n",
              "      <th>Gabapentin</th>\n",
              "      <th>Opiate NOS</th>\n",
              "      <th>Heroin/Morph/Codeine</th>\n",
              "      <th>Other Opioid</th>\n",
              "      <th>Any Opioid</th>\n",
              "      <th>Other</th>\n",
              "      <th>ResidenceCityGeo</th>\n",
              "      <th>InjuryCityGeo</th>\n",
              "      <th>DeathCityGeo</th>\n",
              "    </tr>\n",
              "  </thead>\n",
              "  <tbody>\n",
              "    <tr>\n",
              "      <th>0</th>\n",
              "      <td>05/29/2012</td>\n",
              "      <td>Date of death</td>\n",
              "      <td>37.0</td>\n",
              "      <td>Male</td>\n",
              "      <td>Black</td>\n",
              "      <td>NaN</td>\n",
              "      <td>STAMFORD</td>\n",
              "      <td>FAIRFIELD</td>\n",
              "      <td>NaN</td>\n",
              "      <td>STAMFORD</td>\n",
              "      <td>...</td>\n",
              "      <td>NaN</td>\n",
              "      <td>NaN</td>\n",
              "      <td>NaN</td>\n",
              "      <td>NaN</td>\n",
              "      <td>NaN</td>\n",
              "      <td>NaN</td>\n",
              "      <td>NaN</td>\n",
              "      <td>STAMFORD, CT\\n(41.051924, -73.539475)</td>\n",
              "      <td>STAMFORD, CT\\n(41.051924, -73.539475)</td>\n",
              "      <td>CT\\n(41.575155, -72.738288)</td>\n",
              "    </tr>\n",
              "    <tr>\n",
              "      <th>1</th>\n",
              "      <td>06/27/2012</td>\n",
              "      <td>Date of death</td>\n",
              "      <td>37.0</td>\n",
              "      <td>Male</td>\n",
              "      <td>White</td>\n",
              "      <td>NaN</td>\n",
              "      <td>NORWICH</td>\n",
              "      <td>NEW LONDON</td>\n",
              "      <td>NaN</td>\n",
              "      <td>NORWICH</td>\n",
              "      <td>...</td>\n",
              "      <td>NaN</td>\n",
              "      <td>NaN</td>\n",
              "      <td>NaN</td>\n",
              "      <td>NaN</td>\n",
              "      <td>NaN</td>\n",
              "      <td>NaN</td>\n",
              "      <td>NaN</td>\n",
              "      <td>NORWICH, CT\\n(41.524304, -72.075821)</td>\n",
              "      <td>NORWICH, CT\\n(41.524304, -72.075821)</td>\n",
              "      <td>Norwich, CT\\n(41.524304, -72.075821)</td>\n",
              "    </tr>\n",
              "    <tr>\n",
              "      <th>2</th>\n",
              "      <td>03/24/2014</td>\n",
              "      <td>Date of death</td>\n",
              "      <td>28.0</td>\n",
              "      <td>Male</td>\n",
              "      <td>White</td>\n",
              "      <td>NaN</td>\n",
              "      <td>HEBRON</td>\n",
              "      <td>NaN</td>\n",
              "      <td>NaN</td>\n",
              "      <td>HEBRON</td>\n",
              "      <td>...</td>\n",
              "      <td>NaN</td>\n",
              "      <td>NaN</td>\n",
              "      <td>NaN</td>\n",
              "      <td>NaN</td>\n",
              "      <td>NaN</td>\n",
              "      <td>NaN</td>\n",
              "      <td>NaN</td>\n",
              "      <td>HEBRON, CT\\n(41.658069, -72.366324)</td>\n",
              "      <td>HEBRON, CT\\n(41.658069, -72.366324)</td>\n",
              "      <td>Marlborough, CT\\n(41.632043, -72.461309)</td>\n",
              "    </tr>\n",
              "    <tr>\n",
              "      <th>3</th>\n",
              "      <td>12/31/2014</td>\n",
              "      <td>Date of death</td>\n",
              "      <td>26.0</td>\n",
              "      <td>Female</td>\n",
              "      <td>White</td>\n",
              "      <td>NaN</td>\n",
              "      <td>BALTIC</td>\n",
              "      <td>NaN</td>\n",
              "      <td>NaN</td>\n",
              "      <td>NaN</td>\n",
              "      <td>...</td>\n",
              "      <td>NaN</td>\n",
              "      <td>NaN</td>\n",
              "      <td>NaN</td>\n",
              "      <td>NaN</td>\n",
              "      <td>NaN</td>\n",
              "      <td>NaN</td>\n",
              "      <td>NaN</td>\n",
              "      <td>BALTIC, CT\\n(41.617221, -72.085031)</td>\n",
              "      <td>CT\\n(41.575155, -72.738288)</td>\n",
              "      <td>Baltic, CT\\n(41.617221, -72.085031)</td>\n",
              "    </tr>\n",
              "    <tr>\n",
              "      <th>4</th>\n",
              "      <td>01/16/2016</td>\n",
              "      <td>Date of death</td>\n",
              "      <td>41.0</td>\n",
              "      <td>Male</td>\n",
              "      <td>White</td>\n",
              "      <td>NaN</td>\n",
              "      <td>SHELTON</td>\n",
              "      <td>FAIRFIELD</td>\n",
              "      <td>CT</td>\n",
              "      <td>SHELTON</td>\n",
              "      <td>...</td>\n",
              "      <td>NaN</td>\n",
              "      <td>NaN</td>\n",
              "      <td>NaN</td>\n",
              "      <td>NaN</td>\n",
              "      <td>NaN</td>\n",
              "      <td>Y</td>\n",
              "      <td>NaN</td>\n",
              "      <td>SHELTON, CT\\n(41.316843, -73.092968)</td>\n",
              "      <td>SHELTON, CT\\n(41.316843, -73.092968)</td>\n",
              "      <td>Bridgeport, CT\\n(41.179195, -73.189476)</td>\n",
              "    </tr>\n",
              "    <tr>\n",
              "      <th>5</th>\n",
              "      <td>06/13/2017</td>\n",
              "      <td>Date reported</td>\n",
              "      <td>57.0</td>\n",
              "      <td>Male</td>\n",
              "      <td>White</td>\n",
              "      <td>NaN</td>\n",
              "      <td>BLANDFORD</td>\n",
              "      <td>HAMPDEN</td>\n",
              "      <td>MA</td>\n",
              "      <td>ENFIELD</td>\n",
              "      <td>...</td>\n",
              "      <td>NaN</td>\n",
              "      <td>NaN</td>\n",
              "      <td>NaN</td>\n",
              "      <td>NaN</td>\n",
              "      <td>NaN</td>\n",
              "      <td>NaN</td>\n",
              "      <td>NaN</td>\n",
              "      <td>NaN</td>\n",
              "      <td>ENFIELD, CT\\n(41.976501, -72.591985)</td>\n",
              "      <td>Enfield, CT\\n(41.976501, -72.591985)</td>\n",
              "    </tr>\n",
              "    <tr>\n",
              "      <th>6</th>\n",
              "      <td>10/20/2015</td>\n",
              "      <td>Date reported</td>\n",
              "      <td>26.0</td>\n",
              "      <td>Male</td>\n",
              "      <td>White</td>\n",
              "      <td>NaN</td>\n",
              "      <td>DANBURY</td>\n",
              "      <td>FAIRFIELD</td>\n",
              "      <td>CT</td>\n",
              "      <td>DANBURY</td>\n",
              "      <td>...</td>\n",
              "      <td>NaN</td>\n",
              "      <td>NaN</td>\n",
              "      <td>NaN</td>\n",
              "      <td>NaN</td>\n",
              "      <td>NaN</td>\n",
              "      <td>Y</td>\n",
              "      <td>NaN</td>\n",
              "      <td>DANBURY, CT\\n(41.393666, -73.451539)</td>\n",
              "      <td>DANBURY, CT\\n(41.393666, -73.451539)</td>\n",
              "      <td>Danbury, CT\\n(41.393666, -73.451539)</td>\n",
              "    </tr>\n",
              "    <tr>\n",
              "      <th>7</th>\n",
              "      <td>02/02/2017</td>\n",
              "      <td>Date reported</td>\n",
              "      <td>64.0</td>\n",
              "      <td>Male</td>\n",
              "      <td>White</td>\n",
              "      <td>NaN</td>\n",
              "      <td>MILFORD</td>\n",
              "      <td>NEW HAVEN</td>\n",
              "      <td>CT</td>\n",
              "      <td>MILFORD</td>\n",
              "      <td>...</td>\n",
              "      <td>NaN</td>\n",
              "      <td>NaN</td>\n",
              "      <td>NaN</td>\n",
              "      <td>NaN</td>\n",
              "      <td>NaN</td>\n",
              "      <td>NaN</td>\n",
              "      <td>NaN</td>\n",
              "      <td>MILFORD, CT\\n(41.224276, -73.057564)</td>\n",
              "      <td>MILFORD, CT\\n(41.224276, -73.057564)</td>\n",
              "      <td>Milford, CT\\n(41.224276, -73.057564)</td>\n",
              "    </tr>\n",
              "    <tr>\n",
              "      <th>8</th>\n",
              "      <td>07/03/2018</td>\n",
              "      <td>Date of death</td>\n",
              "      <td>33.0</td>\n",
              "      <td>Male</td>\n",
              "      <td>NaN</td>\n",
              "      <td>NaN</td>\n",
              "      <td>NaN</td>\n",
              "      <td>NaN</td>\n",
              "      <td>NaN</td>\n",
              "      <td>HARTFORD</td>\n",
              "      <td>...</td>\n",
              "      <td>NaN</td>\n",
              "      <td>NaN</td>\n",
              "      <td>NaN</td>\n",
              "      <td>NaN</td>\n",
              "      <td>NaN</td>\n",
              "      <td>NaN</td>\n",
              "      <td>NaN</td>\n",
              "      <td>CT\\n(41.575155, -72.738288)</td>\n",
              "      <td>HARTFORD, CT\\n(41.765775, -72.673356)</td>\n",
              "      <td>Hartford, CT\\n(41.765775, -72.673356)</td>\n",
              "    </tr>\n",
              "    <tr>\n",
              "      <th>9</th>\n",
              "      <td>05/08/2013</td>\n",
              "      <td>Date of death</td>\n",
              "      <td>23.0</td>\n",
              "      <td>Male</td>\n",
              "      <td>White</td>\n",
              "      <td>NaN</td>\n",
              "      <td>BETHEL</td>\n",
              "      <td>FAIRFIELD</td>\n",
              "      <td>NaN</td>\n",
              "      <td>BETHEL</td>\n",
              "      <td>...</td>\n",
              "      <td>NaN</td>\n",
              "      <td>NaN</td>\n",
              "      <td>NaN</td>\n",
              "      <td>NaN</td>\n",
              "      <td>NaN</td>\n",
              "      <td>NaN</td>\n",
              "      <td>NaN</td>\n",
              "      <td>BETHEL, CT\\n(41.371727, -73.407448)</td>\n",
              "      <td>BETHEL, CT\\n(41.371727, -73.407448)</td>\n",
              "      <td>Bethel, CT\\n(41.371727, -73.407448)</td>\n",
              "    </tr>\n",
              "  </tbody>\n",
              "</table>\n",
              "<p>10 rows × 48 columns</p>\n",
              "</div>\n",
              "    <div class=\"colab-df-buttons\">\n",
              "\n",
              "  <div class=\"colab-df-container\">\n",
              "    <button class=\"colab-df-convert\" onclick=\"convertToInteractive('df-229993b0-293b-4101-b74e-094b3280b149')\"\n",
              "            title=\"Convert this dataframe to an interactive table.\"\n",
              "            style=\"display:none;\">\n",
              "\n",
              "  <svg xmlns=\"http://www.w3.org/2000/svg\" height=\"24px\" viewBox=\"0 -960 960 960\">\n",
              "    <path d=\"M120-120v-720h720v720H120Zm60-500h600v-160H180v160Zm220 220h160v-160H400v160Zm0 220h160v-160H400v160ZM180-400h160v-160H180v160Zm440 0h160v-160H620v160ZM180-180h160v-160H180v160Zm440 0h160v-160H620v160Z\"/>\n",
              "  </svg>\n",
              "    </button>\n",
              "\n",
              "  <style>\n",
              "    .colab-df-container {\n",
              "      display:flex;\n",
              "      gap: 12px;\n",
              "    }\n",
              "\n",
              "    .colab-df-convert {\n",
              "      background-color: #E8F0FE;\n",
              "      border: none;\n",
              "      border-radius: 50%;\n",
              "      cursor: pointer;\n",
              "      display: none;\n",
              "      fill: #1967D2;\n",
              "      height: 32px;\n",
              "      padding: 0 0 0 0;\n",
              "      width: 32px;\n",
              "    }\n",
              "\n",
              "    .colab-df-convert:hover {\n",
              "      background-color: #E2EBFA;\n",
              "      box-shadow: 0px 1px 2px rgba(60, 64, 67, 0.3), 0px 1px 3px 1px rgba(60, 64, 67, 0.15);\n",
              "      fill: #174EA6;\n",
              "    }\n",
              "\n",
              "    .colab-df-buttons div {\n",
              "      margin-bottom: 4px;\n",
              "    }\n",
              "\n",
              "    [theme=dark] .colab-df-convert {\n",
              "      background-color: #3B4455;\n",
              "      fill: #D2E3FC;\n",
              "    }\n",
              "\n",
              "    [theme=dark] .colab-df-convert:hover {\n",
              "      background-color: #434B5C;\n",
              "      box-shadow: 0px 1px 3px 1px rgba(0, 0, 0, 0.15);\n",
              "      filter: drop-shadow(0px 1px 2px rgba(0, 0, 0, 0.3));\n",
              "      fill: #FFFFFF;\n",
              "    }\n",
              "  </style>\n",
              "\n",
              "    <script>\n",
              "      const buttonEl =\n",
              "        document.querySelector('#df-229993b0-293b-4101-b74e-094b3280b149 button.colab-df-convert');\n",
              "      buttonEl.style.display =\n",
              "        google.colab.kernel.accessAllowed ? 'block' : 'none';\n",
              "\n",
              "      async function convertToInteractive(key) {\n",
              "        const element = document.querySelector('#df-229993b0-293b-4101-b74e-094b3280b149');\n",
              "        const dataTable =\n",
              "          await google.colab.kernel.invokeFunction('convertToInteractive',\n",
              "                                                    [key], {});\n",
              "        if (!dataTable) return;\n",
              "\n",
              "        const docLinkHtml = 'Like what you see? Visit the ' +\n",
              "          '<a target=\"_blank\" href=https://colab.research.google.com/notebooks/data_table.ipynb>data table notebook</a>'\n",
              "          + ' to learn more about interactive tables.';\n",
              "        element.innerHTML = '';\n",
              "        dataTable['output_type'] = 'display_data';\n",
              "        await google.colab.output.renderOutput(dataTable, element);\n",
              "        const docLink = document.createElement('div');\n",
              "        docLink.innerHTML = docLinkHtml;\n",
              "        element.appendChild(docLink);\n",
              "      }\n",
              "    </script>\n",
              "  </div>\n",
              "\n",
              "\n",
              "<div id=\"df-1cc29c0d-590d-4713-b27d-8c5931cb070e\">\n",
              "  <button class=\"colab-df-quickchart\" onclick=\"quickchart('df-1cc29c0d-590d-4713-b27d-8c5931cb070e')\"\n",
              "            title=\"Suggest charts\"\n",
              "            style=\"display:none;\">\n",
              "\n",
              "<svg xmlns=\"http://www.w3.org/2000/svg\" height=\"24px\"viewBox=\"0 0 24 24\"\n",
              "     width=\"24px\">\n",
              "    <g>\n",
              "        <path d=\"M19 3H5c-1.1 0-2 .9-2 2v14c0 1.1.9 2 2 2h14c1.1 0 2-.9 2-2V5c0-1.1-.9-2-2-2zM9 17H7v-7h2v7zm4 0h-2V7h2v10zm4 0h-2v-4h2v4z\"/>\n",
              "    </g>\n",
              "</svg>\n",
              "  </button>\n",
              "\n",
              "<style>\n",
              "  .colab-df-quickchart {\n",
              "      --bg-color: #E8F0FE;\n",
              "      --fill-color: #1967D2;\n",
              "      --hover-bg-color: #E2EBFA;\n",
              "      --hover-fill-color: #174EA6;\n",
              "      --disabled-fill-color: #AAA;\n",
              "      --disabled-bg-color: #DDD;\n",
              "  }\n",
              "\n",
              "  [theme=dark] .colab-df-quickchart {\n",
              "      --bg-color: #3B4455;\n",
              "      --fill-color: #D2E3FC;\n",
              "      --hover-bg-color: #434B5C;\n",
              "      --hover-fill-color: #FFFFFF;\n",
              "      --disabled-bg-color: #3B4455;\n",
              "      --disabled-fill-color: #666;\n",
              "  }\n",
              "\n",
              "  .colab-df-quickchart {\n",
              "    background-color: var(--bg-color);\n",
              "    border: none;\n",
              "    border-radius: 50%;\n",
              "    cursor: pointer;\n",
              "    display: none;\n",
              "    fill: var(--fill-color);\n",
              "    height: 32px;\n",
              "    padding: 0;\n",
              "    width: 32px;\n",
              "  }\n",
              "\n",
              "  .colab-df-quickchart:hover {\n",
              "    background-color: var(--hover-bg-color);\n",
              "    box-shadow: 0 1px 2px rgba(60, 64, 67, 0.3), 0 1px 3px 1px rgba(60, 64, 67, 0.15);\n",
              "    fill: var(--button-hover-fill-color);\n",
              "  }\n",
              "\n",
              "  .colab-df-quickchart-complete:disabled,\n",
              "  .colab-df-quickchart-complete:disabled:hover {\n",
              "    background-color: var(--disabled-bg-color);\n",
              "    fill: var(--disabled-fill-color);\n",
              "    box-shadow: none;\n",
              "  }\n",
              "\n",
              "  .colab-df-spinner {\n",
              "    border: 2px solid var(--fill-color);\n",
              "    border-color: transparent;\n",
              "    border-bottom-color: var(--fill-color);\n",
              "    animation:\n",
              "      spin 1s steps(1) infinite;\n",
              "  }\n",
              "\n",
              "  @keyframes spin {\n",
              "    0% {\n",
              "      border-color: transparent;\n",
              "      border-bottom-color: var(--fill-color);\n",
              "      border-left-color: var(--fill-color);\n",
              "    }\n",
              "    20% {\n",
              "      border-color: transparent;\n",
              "      border-left-color: var(--fill-color);\n",
              "      border-top-color: var(--fill-color);\n",
              "    }\n",
              "    30% {\n",
              "      border-color: transparent;\n",
              "      border-left-color: var(--fill-color);\n",
              "      border-top-color: var(--fill-color);\n",
              "      border-right-color: var(--fill-color);\n",
              "    }\n",
              "    40% {\n",
              "      border-color: transparent;\n",
              "      border-right-color: var(--fill-color);\n",
              "      border-top-color: var(--fill-color);\n",
              "    }\n",
              "    60% {\n",
              "      border-color: transparent;\n",
              "      border-right-color: var(--fill-color);\n",
              "    }\n",
              "    80% {\n",
              "      border-color: transparent;\n",
              "      border-right-color: var(--fill-color);\n",
              "      border-bottom-color: var(--fill-color);\n",
              "    }\n",
              "    90% {\n",
              "      border-color: transparent;\n",
              "      border-bottom-color: var(--fill-color);\n",
              "    }\n",
              "  }\n",
              "</style>\n",
              "\n",
              "  <script>\n",
              "    async function quickchart(key) {\n",
              "      const quickchartButtonEl =\n",
              "        document.querySelector('#' + key + ' button');\n",
              "      quickchartButtonEl.disabled = true;  // To prevent multiple clicks.\n",
              "      quickchartButtonEl.classList.add('colab-df-spinner');\n",
              "      try {\n",
              "        const charts = await google.colab.kernel.invokeFunction(\n",
              "            'suggestCharts', [key], {});\n",
              "      } catch (error) {\n",
              "        console.error('Error during call to suggestCharts:', error);\n",
              "      }\n",
              "      quickchartButtonEl.classList.remove('colab-df-spinner');\n",
              "      quickchartButtonEl.classList.add('colab-df-quickchart-complete');\n",
              "    }\n",
              "    (() => {\n",
              "      let quickchartButtonEl =\n",
              "        document.querySelector('#df-1cc29c0d-590d-4713-b27d-8c5931cb070e button');\n",
              "      quickchartButtonEl.style.display =\n",
              "        google.colab.kernel.accessAllowed ? 'block' : 'none';\n",
              "    })();\n",
              "  </script>\n",
              "</div>\n",
              "\n",
              "    </div>\n",
              "  </div>\n"
            ],
            "application/vnd.google.colaboratory.intrinsic+json": {
              "type": "dataframe",
              "variable_name": "data"
            }
          },
          "metadata": {},
          "execution_count": 6
        }
      ]
    },
    {
      "cell_type": "code",
      "source": [
        "data.columns #Check variable names"
      ],
      "metadata": {
        "colab": {
          "base_uri": "https://localhost:8080/",
          "height": 272
        },
        "id": "f0RLVG0_Smhk",
        "outputId": "dd57cf70-9518-4274-c726-e366bcf251bb"
      },
      "execution_count": 7,
      "outputs": [
        {
          "output_type": "display_data",
          "data": {
            "text/plain": [
              "<IPython.core.display.HTML object>"
            ],
            "text/html": [
              "\n",
              "  <style>\n",
              "    pre {\n",
              "        white-space: pre-wrap;\n",
              "    }\n",
              "  </style>\n",
              "  "
            ]
          },
          "metadata": {}
        },
        {
          "output_type": "execute_result",
          "data": {
            "text/plain": [
              "Index(['Date', 'Date Type', 'Age', 'Sex', 'Race', 'Ethnicity',\n",
              "       'Residence City', 'Residence County', 'Residence State', 'Injury City',\n",
              "       'Injury County', 'Injury State', 'Injury Place',\n",
              "       'Description of Injury', 'Death City', 'Death County', 'Death State',\n",
              "       'Location', 'Location if Other', 'Cause of Death', 'Manner of Death',\n",
              "       'Other Significant Conditions ', 'Heroin',\n",
              "       'Heroin death certificate (DC)', 'Cocaine', 'Fentanyl',\n",
              "       'Fentanyl Analogue', 'Oxycodone', 'Oxymorphone', 'Ethanol',\n",
              "       'Hydrocodone', 'Benzodiazepine', 'Methadone', 'Meth/Amphetamine',\n",
              "       'Amphet', 'Tramad', 'Hydromorphone', 'Morphine (Not Heroin)',\n",
              "       'Xylazine', 'Gabapentin', 'Opiate NOS', 'Heroin/Morph/Codeine',\n",
              "       'Other Opioid', 'Any Opioid', 'Other', 'ResidenceCityGeo',\n",
              "       'InjuryCityGeo', 'DeathCityGeo'],\n",
              "      dtype='object')"
            ]
          },
          "metadata": {},
          "execution_count": 7
        }
      ]
    },
    {
      "cell_type": "code",
      "source": [
        "data.shape #Check amount of records & variables"
      ],
      "metadata": {
        "colab": {
          "base_uri": "https://localhost:8080/",
          "height": 35
        },
        "id": "rQySf5zokQXI",
        "outputId": "fe1b4425-3aa5-4543-8591-36041c24e51c"
      },
      "execution_count": 8,
      "outputs": [
        {
          "output_type": "display_data",
          "data": {
            "text/plain": [
              "<IPython.core.display.HTML object>"
            ],
            "text/html": [
              "\n",
              "  <style>\n",
              "    pre {\n",
              "        white-space: pre-wrap;\n",
              "    }\n",
              "  </style>\n",
              "  "
            ]
          },
          "metadata": {}
        },
        {
          "output_type": "execute_result",
          "data": {
            "text/plain": [
              "(11981, 48)"
            ]
          },
          "metadata": {},
          "execution_count": 8
        }
      ]
    },
    {
      "cell_type": "markdown",
      "source": [
        "#4) Data Cleaning"
      ],
      "metadata": {
        "id": "qWAwGwdoItJv"
      }
    },
    {
      "cell_type": "markdown",
      "source": [
        "**Select drug variables for association analysis**"
      ],
      "metadata": {
        "id": "y4hd1aQUJEA_"
      }
    },
    {
      "cell_type": "code",
      "source": [
        "drug_columns = [\n",
        "    'Heroin', 'Cocaine', 'Fentanyl', 'Oxycodone', 'Oxymorphone', 'Ethanol',\n",
        "    'Hydrocodone', 'Benzodiazepine', 'Methadone', 'Meth/Amphetamine',\n",
        "    'Amphet', 'Tramad', 'Hydromorphone', 'Morphine (Not Heroin)',\n",
        "    'Xylazine', 'Gabapentin', 'Opiate NOS', 'Heroin/Morph/Codeine',\n",
        "    'Other Opioid', 'Any Opioid'\n",
        "    ]\n",
        "\n",
        "drug_df = data[drug_columns].notna().astype(bool) #Convert into boolean (T/F)"
      ],
      "metadata": {
        "id": "5q9PfLAgIxMq",
        "colab": {
          "base_uri": "https://localhost:8080/",
          "height": 17
        },
        "outputId": "973e8780-b7c1-4fe4-9b50-8eee9541296e"
      },
      "execution_count": 9,
      "outputs": [
        {
          "output_type": "display_data",
          "data": {
            "text/plain": [
              "<IPython.core.display.HTML object>"
            ],
            "text/html": [
              "\n",
              "  <style>\n",
              "    pre {\n",
              "        white-space: pre-wrap;\n",
              "    }\n",
              "  </style>\n",
              "  "
            ]
          },
          "metadata": {}
        }
      ]
    },
    {
      "cell_type": "code",
      "source": [
        "drug_df.head(10)"
      ],
      "metadata": {
        "colab": {
          "base_uri": "https://localhost:8080/",
          "height": 417
        },
        "id": "w3zGFr03YPs9",
        "outputId": "0b8e8044-f765-4d1e-fbbf-515e825db5ef"
      },
      "execution_count": 10,
      "outputs": [
        {
          "output_type": "display_data",
          "data": {
            "text/plain": [
              "<IPython.core.display.HTML object>"
            ],
            "text/html": [
              "\n",
              "  <style>\n",
              "    pre {\n",
              "        white-space: pre-wrap;\n",
              "    }\n",
              "  </style>\n",
              "  "
            ]
          },
          "metadata": {}
        },
        {
          "output_type": "execute_result",
          "data": {
            "text/plain": [
              "   Heroin  Cocaine  Fentanyl  Oxycodone  Oxymorphone  Ethanol  Hydrocodone  \\\n",
              "0   False     True     False      False        False    False        False   \n",
              "1    True    False     False      False        False    False        False   \n",
              "2    True    False     False      False        False    False        False   \n",
              "3    True    False     False      False        False    False        False   \n",
              "4   False    False      True      False        False    False        False   \n",
              "5   False     True     False      False        False    False        False   \n",
              "6   False    False     False      False        False    False        False   \n",
              "7   False    False     False       True        False    False        False   \n",
              "8   False     True     False      False        False    False        False   \n",
              "9    True    False     False      False        False    False        False   \n",
              "\n",
              "   Benzodiazepine  Methadone  Meth/Amphetamine  Amphet  Tramad  Hydromorphone  \\\n",
              "0           False      False             False   False   False          False   \n",
              "1           False      False             False   False   False          False   \n",
              "2           False      False             False   False   False          False   \n",
              "3           False      False             False   False   False          False   \n",
              "4           False      False             False   False   False          False   \n",
              "5           False      False             False   False   False          False   \n",
              "6           False      False             False   False   False          False   \n",
              "7           False      False             False   False   False          False   \n",
              "8           False      False             False   False   False          False   \n",
              "9           False      False             False   False   False          False   \n",
              "\n",
              "   Morphine (Not Heroin)  Xylazine  Gabapentin  Opiate NOS  \\\n",
              "0                  False     False       False       False   \n",
              "1                  False     False       False       False   \n",
              "2                  False     False       False       False   \n",
              "3                  False     False       False       False   \n",
              "4                  False     False       False       False   \n",
              "5                  False     False       False       False   \n",
              "6                  False     False       False       False   \n",
              "7                  False     False       False       False   \n",
              "8                  False     False       False       False   \n",
              "9                  False     False       False       False   \n",
              "\n",
              "   Heroin/Morph/Codeine  Other Opioid  Any Opioid  \n",
              "0                 False         False       False  \n",
              "1                 False         False       False  \n",
              "2                 False         False       False  \n",
              "3                 False         False       False  \n",
              "4                 False         False        True  \n",
              "5                 False         False       False  \n",
              "6                 False         False        True  \n",
              "7                 False         False       False  \n",
              "8                 False         False       False  \n",
              "9                 False         False       False  "
            ],
            "text/html": [
              "\n",
              "  <div id=\"df-5baa8850-e4c6-4baa-a4a6-15292681a0d6\" class=\"colab-df-container\">\n",
              "    <div>\n",
              "<style scoped>\n",
              "    .dataframe tbody tr th:only-of-type {\n",
              "        vertical-align: middle;\n",
              "    }\n",
              "\n",
              "    .dataframe tbody tr th {\n",
              "        vertical-align: top;\n",
              "    }\n",
              "\n",
              "    .dataframe thead th {\n",
              "        text-align: right;\n",
              "    }\n",
              "</style>\n",
              "<table border=\"1\" class=\"dataframe\">\n",
              "  <thead>\n",
              "    <tr style=\"text-align: right;\">\n",
              "      <th></th>\n",
              "      <th>Heroin</th>\n",
              "      <th>Cocaine</th>\n",
              "      <th>Fentanyl</th>\n",
              "      <th>Oxycodone</th>\n",
              "      <th>Oxymorphone</th>\n",
              "      <th>Ethanol</th>\n",
              "      <th>Hydrocodone</th>\n",
              "      <th>Benzodiazepine</th>\n",
              "      <th>Methadone</th>\n",
              "      <th>Meth/Amphetamine</th>\n",
              "      <th>Amphet</th>\n",
              "      <th>Tramad</th>\n",
              "      <th>Hydromorphone</th>\n",
              "      <th>Morphine (Not Heroin)</th>\n",
              "      <th>Xylazine</th>\n",
              "      <th>Gabapentin</th>\n",
              "      <th>Opiate NOS</th>\n",
              "      <th>Heroin/Morph/Codeine</th>\n",
              "      <th>Other Opioid</th>\n",
              "      <th>Any Opioid</th>\n",
              "    </tr>\n",
              "  </thead>\n",
              "  <tbody>\n",
              "    <tr>\n",
              "      <th>0</th>\n",
              "      <td>False</td>\n",
              "      <td>True</td>\n",
              "      <td>False</td>\n",
              "      <td>False</td>\n",
              "      <td>False</td>\n",
              "      <td>False</td>\n",
              "      <td>False</td>\n",
              "      <td>False</td>\n",
              "      <td>False</td>\n",
              "      <td>False</td>\n",
              "      <td>False</td>\n",
              "      <td>False</td>\n",
              "      <td>False</td>\n",
              "      <td>False</td>\n",
              "      <td>False</td>\n",
              "      <td>False</td>\n",
              "      <td>False</td>\n",
              "      <td>False</td>\n",
              "      <td>False</td>\n",
              "      <td>False</td>\n",
              "    </tr>\n",
              "    <tr>\n",
              "      <th>1</th>\n",
              "      <td>True</td>\n",
              "      <td>False</td>\n",
              "      <td>False</td>\n",
              "      <td>False</td>\n",
              "      <td>False</td>\n",
              "      <td>False</td>\n",
              "      <td>False</td>\n",
              "      <td>False</td>\n",
              "      <td>False</td>\n",
              "      <td>False</td>\n",
              "      <td>False</td>\n",
              "      <td>False</td>\n",
              "      <td>False</td>\n",
              "      <td>False</td>\n",
              "      <td>False</td>\n",
              "      <td>False</td>\n",
              "      <td>False</td>\n",
              "      <td>False</td>\n",
              "      <td>False</td>\n",
              "      <td>False</td>\n",
              "    </tr>\n",
              "    <tr>\n",
              "      <th>2</th>\n",
              "      <td>True</td>\n",
              "      <td>False</td>\n",
              "      <td>False</td>\n",
              "      <td>False</td>\n",
              "      <td>False</td>\n",
              "      <td>False</td>\n",
              "      <td>False</td>\n",
              "      <td>False</td>\n",
              "      <td>False</td>\n",
              "      <td>False</td>\n",
              "      <td>False</td>\n",
              "      <td>False</td>\n",
              "      <td>False</td>\n",
              "      <td>False</td>\n",
              "      <td>False</td>\n",
              "      <td>False</td>\n",
              "      <td>False</td>\n",
              "      <td>False</td>\n",
              "      <td>False</td>\n",
              "      <td>False</td>\n",
              "    </tr>\n",
              "    <tr>\n",
              "      <th>3</th>\n",
              "      <td>True</td>\n",
              "      <td>False</td>\n",
              "      <td>False</td>\n",
              "      <td>False</td>\n",
              "      <td>False</td>\n",
              "      <td>False</td>\n",
              "      <td>False</td>\n",
              "      <td>False</td>\n",
              "      <td>False</td>\n",
              "      <td>False</td>\n",
              "      <td>False</td>\n",
              "      <td>False</td>\n",
              "      <td>False</td>\n",
              "      <td>False</td>\n",
              "      <td>False</td>\n",
              "      <td>False</td>\n",
              "      <td>False</td>\n",
              "      <td>False</td>\n",
              "      <td>False</td>\n",
              "      <td>False</td>\n",
              "    </tr>\n",
              "    <tr>\n",
              "      <th>4</th>\n",
              "      <td>False</td>\n",
              "      <td>False</td>\n",
              "      <td>True</td>\n",
              "      <td>False</td>\n",
              "      <td>False</td>\n",
              "      <td>False</td>\n",
              "      <td>False</td>\n",
              "      <td>False</td>\n",
              "      <td>False</td>\n",
              "      <td>False</td>\n",
              "      <td>False</td>\n",
              "      <td>False</td>\n",
              "      <td>False</td>\n",
              "      <td>False</td>\n",
              "      <td>False</td>\n",
              "      <td>False</td>\n",
              "      <td>False</td>\n",
              "      <td>False</td>\n",
              "      <td>False</td>\n",
              "      <td>True</td>\n",
              "    </tr>\n",
              "    <tr>\n",
              "      <th>5</th>\n",
              "      <td>False</td>\n",
              "      <td>True</td>\n",
              "      <td>False</td>\n",
              "      <td>False</td>\n",
              "      <td>False</td>\n",
              "      <td>False</td>\n",
              "      <td>False</td>\n",
              "      <td>False</td>\n",
              "      <td>False</td>\n",
              "      <td>False</td>\n",
              "      <td>False</td>\n",
              "      <td>False</td>\n",
              "      <td>False</td>\n",
              "      <td>False</td>\n",
              "      <td>False</td>\n",
              "      <td>False</td>\n",
              "      <td>False</td>\n",
              "      <td>False</td>\n",
              "      <td>False</td>\n",
              "      <td>False</td>\n",
              "    </tr>\n",
              "    <tr>\n",
              "      <th>6</th>\n",
              "      <td>False</td>\n",
              "      <td>False</td>\n",
              "      <td>False</td>\n",
              "      <td>False</td>\n",
              "      <td>False</td>\n",
              "      <td>False</td>\n",
              "      <td>False</td>\n",
              "      <td>False</td>\n",
              "      <td>False</td>\n",
              "      <td>False</td>\n",
              "      <td>False</td>\n",
              "      <td>False</td>\n",
              "      <td>False</td>\n",
              "      <td>False</td>\n",
              "      <td>False</td>\n",
              "      <td>False</td>\n",
              "      <td>False</td>\n",
              "      <td>False</td>\n",
              "      <td>False</td>\n",
              "      <td>True</td>\n",
              "    </tr>\n",
              "    <tr>\n",
              "      <th>7</th>\n",
              "      <td>False</td>\n",
              "      <td>False</td>\n",
              "      <td>False</td>\n",
              "      <td>True</td>\n",
              "      <td>False</td>\n",
              "      <td>False</td>\n",
              "      <td>False</td>\n",
              "      <td>False</td>\n",
              "      <td>False</td>\n",
              "      <td>False</td>\n",
              "      <td>False</td>\n",
              "      <td>False</td>\n",
              "      <td>False</td>\n",
              "      <td>False</td>\n",
              "      <td>False</td>\n",
              "      <td>False</td>\n",
              "      <td>False</td>\n",
              "      <td>False</td>\n",
              "      <td>False</td>\n",
              "      <td>False</td>\n",
              "    </tr>\n",
              "    <tr>\n",
              "      <th>8</th>\n",
              "      <td>False</td>\n",
              "      <td>True</td>\n",
              "      <td>False</td>\n",
              "      <td>False</td>\n",
              "      <td>False</td>\n",
              "      <td>False</td>\n",
              "      <td>False</td>\n",
              "      <td>False</td>\n",
              "      <td>False</td>\n",
              "      <td>False</td>\n",
              "      <td>False</td>\n",
              "      <td>False</td>\n",
              "      <td>False</td>\n",
              "      <td>False</td>\n",
              "      <td>False</td>\n",
              "      <td>False</td>\n",
              "      <td>False</td>\n",
              "      <td>False</td>\n",
              "      <td>False</td>\n",
              "      <td>False</td>\n",
              "    </tr>\n",
              "    <tr>\n",
              "      <th>9</th>\n",
              "      <td>True</td>\n",
              "      <td>False</td>\n",
              "      <td>False</td>\n",
              "      <td>False</td>\n",
              "      <td>False</td>\n",
              "      <td>False</td>\n",
              "      <td>False</td>\n",
              "      <td>False</td>\n",
              "      <td>False</td>\n",
              "      <td>False</td>\n",
              "      <td>False</td>\n",
              "      <td>False</td>\n",
              "      <td>False</td>\n",
              "      <td>False</td>\n",
              "      <td>False</td>\n",
              "      <td>False</td>\n",
              "      <td>False</td>\n",
              "      <td>False</td>\n",
              "      <td>False</td>\n",
              "      <td>False</td>\n",
              "    </tr>\n",
              "  </tbody>\n",
              "</table>\n",
              "</div>\n",
              "    <div class=\"colab-df-buttons\">\n",
              "\n",
              "  <div class=\"colab-df-container\">\n",
              "    <button class=\"colab-df-convert\" onclick=\"convertToInteractive('df-5baa8850-e4c6-4baa-a4a6-15292681a0d6')\"\n",
              "            title=\"Convert this dataframe to an interactive table.\"\n",
              "            style=\"display:none;\">\n",
              "\n",
              "  <svg xmlns=\"http://www.w3.org/2000/svg\" height=\"24px\" viewBox=\"0 -960 960 960\">\n",
              "    <path d=\"M120-120v-720h720v720H120Zm60-500h600v-160H180v160Zm220 220h160v-160H400v160Zm0 220h160v-160H400v160ZM180-400h160v-160H180v160Zm440 0h160v-160H620v160ZM180-180h160v-160H180v160Zm440 0h160v-160H620v160Z\"/>\n",
              "  </svg>\n",
              "    </button>\n",
              "\n",
              "  <style>\n",
              "    .colab-df-container {\n",
              "      display:flex;\n",
              "      gap: 12px;\n",
              "    }\n",
              "\n",
              "    .colab-df-convert {\n",
              "      background-color: #E8F0FE;\n",
              "      border: none;\n",
              "      border-radius: 50%;\n",
              "      cursor: pointer;\n",
              "      display: none;\n",
              "      fill: #1967D2;\n",
              "      height: 32px;\n",
              "      padding: 0 0 0 0;\n",
              "      width: 32px;\n",
              "    }\n",
              "\n",
              "    .colab-df-convert:hover {\n",
              "      background-color: #E2EBFA;\n",
              "      box-shadow: 0px 1px 2px rgba(60, 64, 67, 0.3), 0px 1px 3px 1px rgba(60, 64, 67, 0.15);\n",
              "      fill: #174EA6;\n",
              "    }\n",
              "\n",
              "    .colab-df-buttons div {\n",
              "      margin-bottom: 4px;\n",
              "    }\n",
              "\n",
              "    [theme=dark] .colab-df-convert {\n",
              "      background-color: #3B4455;\n",
              "      fill: #D2E3FC;\n",
              "    }\n",
              "\n",
              "    [theme=dark] .colab-df-convert:hover {\n",
              "      background-color: #434B5C;\n",
              "      box-shadow: 0px 1px 3px 1px rgba(0, 0, 0, 0.15);\n",
              "      filter: drop-shadow(0px 1px 2px rgba(0, 0, 0, 0.3));\n",
              "      fill: #FFFFFF;\n",
              "    }\n",
              "  </style>\n",
              "\n",
              "    <script>\n",
              "      const buttonEl =\n",
              "        document.querySelector('#df-5baa8850-e4c6-4baa-a4a6-15292681a0d6 button.colab-df-convert');\n",
              "      buttonEl.style.display =\n",
              "        google.colab.kernel.accessAllowed ? 'block' : 'none';\n",
              "\n",
              "      async function convertToInteractive(key) {\n",
              "        const element = document.querySelector('#df-5baa8850-e4c6-4baa-a4a6-15292681a0d6');\n",
              "        const dataTable =\n",
              "          await google.colab.kernel.invokeFunction('convertToInteractive',\n",
              "                                                    [key], {});\n",
              "        if (!dataTable) return;\n",
              "\n",
              "        const docLinkHtml = 'Like what you see? Visit the ' +\n",
              "          '<a target=\"_blank\" href=https://colab.research.google.com/notebooks/data_table.ipynb>data table notebook</a>'\n",
              "          + ' to learn more about interactive tables.';\n",
              "        element.innerHTML = '';\n",
              "        dataTable['output_type'] = 'display_data';\n",
              "        await google.colab.output.renderOutput(dataTable, element);\n",
              "        const docLink = document.createElement('div');\n",
              "        docLink.innerHTML = docLinkHtml;\n",
              "        element.appendChild(docLink);\n",
              "      }\n",
              "    </script>\n",
              "  </div>\n",
              "\n",
              "\n",
              "<div id=\"df-f51397e3-b2b8-4814-b24c-12326d3053fb\">\n",
              "  <button class=\"colab-df-quickchart\" onclick=\"quickchart('df-f51397e3-b2b8-4814-b24c-12326d3053fb')\"\n",
              "            title=\"Suggest charts\"\n",
              "            style=\"display:none;\">\n",
              "\n",
              "<svg xmlns=\"http://www.w3.org/2000/svg\" height=\"24px\"viewBox=\"0 0 24 24\"\n",
              "     width=\"24px\">\n",
              "    <g>\n",
              "        <path d=\"M19 3H5c-1.1 0-2 .9-2 2v14c0 1.1.9 2 2 2h14c1.1 0 2-.9 2-2V5c0-1.1-.9-2-2-2zM9 17H7v-7h2v7zm4 0h-2V7h2v10zm4 0h-2v-4h2v4z\"/>\n",
              "    </g>\n",
              "</svg>\n",
              "  </button>\n",
              "\n",
              "<style>\n",
              "  .colab-df-quickchart {\n",
              "      --bg-color: #E8F0FE;\n",
              "      --fill-color: #1967D2;\n",
              "      --hover-bg-color: #E2EBFA;\n",
              "      --hover-fill-color: #174EA6;\n",
              "      --disabled-fill-color: #AAA;\n",
              "      --disabled-bg-color: #DDD;\n",
              "  }\n",
              "\n",
              "  [theme=dark] .colab-df-quickchart {\n",
              "      --bg-color: #3B4455;\n",
              "      --fill-color: #D2E3FC;\n",
              "      --hover-bg-color: #434B5C;\n",
              "      --hover-fill-color: #FFFFFF;\n",
              "      --disabled-bg-color: #3B4455;\n",
              "      --disabled-fill-color: #666;\n",
              "  }\n",
              "\n",
              "  .colab-df-quickchart {\n",
              "    background-color: var(--bg-color);\n",
              "    border: none;\n",
              "    border-radius: 50%;\n",
              "    cursor: pointer;\n",
              "    display: none;\n",
              "    fill: var(--fill-color);\n",
              "    height: 32px;\n",
              "    padding: 0;\n",
              "    width: 32px;\n",
              "  }\n",
              "\n",
              "  .colab-df-quickchart:hover {\n",
              "    background-color: var(--hover-bg-color);\n",
              "    box-shadow: 0 1px 2px rgba(60, 64, 67, 0.3), 0 1px 3px 1px rgba(60, 64, 67, 0.15);\n",
              "    fill: var(--button-hover-fill-color);\n",
              "  }\n",
              "\n",
              "  .colab-df-quickchart-complete:disabled,\n",
              "  .colab-df-quickchart-complete:disabled:hover {\n",
              "    background-color: var(--disabled-bg-color);\n",
              "    fill: var(--disabled-fill-color);\n",
              "    box-shadow: none;\n",
              "  }\n",
              "\n",
              "  .colab-df-spinner {\n",
              "    border: 2px solid var(--fill-color);\n",
              "    border-color: transparent;\n",
              "    border-bottom-color: var(--fill-color);\n",
              "    animation:\n",
              "      spin 1s steps(1) infinite;\n",
              "  }\n",
              "\n",
              "  @keyframes spin {\n",
              "    0% {\n",
              "      border-color: transparent;\n",
              "      border-bottom-color: var(--fill-color);\n",
              "      border-left-color: var(--fill-color);\n",
              "    }\n",
              "    20% {\n",
              "      border-color: transparent;\n",
              "      border-left-color: var(--fill-color);\n",
              "      border-top-color: var(--fill-color);\n",
              "    }\n",
              "    30% {\n",
              "      border-color: transparent;\n",
              "      border-left-color: var(--fill-color);\n",
              "      border-top-color: var(--fill-color);\n",
              "      border-right-color: var(--fill-color);\n",
              "    }\n",
              "    40% {\n",
              "      border-color: transparent;\n",
              "      border-right-color: var(--fill-color);\n",
              "      border-top-color: var(--fill-color);\n",
              "    }\n",
              "    60% {\n",
              "      border-color: transparent;\n",
              "      border-right-color: var(--fill-color);\n",
              "    }\n",
              "    80% {\n",
              "      border-color: transparent;\n",
              "      border-right-color: var(--fill-color);\n",
              "      border-bottom-color: var(--fill-color);\n",
              "    }\n",
              "    90% {\n",
              "      border-color: transparent;\n",
              "      border-bottom-color: var(--fill-color);\n",
              "    }\n",
              "  }\n",
              "</style>\n",
              "\n",
              "  <script>\n",
              "    async function quickchart(key) {\n",
              "      const quickchartButtonEl =\n",
              "        document.querySelector('#' + key + ' button');\n",
              "      quickchartButtonEl.disabled = true;  // To prevent multiple clicks.\n",
              "      quickchartButtonEl.classList.add('colab-df-spinner');\n",
              "      try {\n",
              "        const charts = await google.colab.kernel.invokeFunction(\n",
              "            'suggestCharts', [key], {});\n",
              "      } catch (error) {\n",
              "        console.error('Error during call to suggestCharts:', error);\n",
              "      }\n",
              "      quickchartButtonEl.classList.remove('colab-df-spinner');\n",
              "      quickchartButtonEl.classList.add('colab-df-quickchart-complete');\n",
              "    }\n",
              "    (() => {\n",
              "      let quickchartButtonEl =\n",
              "        document.querySelector('#df-f51397e3-b2b8-4814-b24c-12326d3053fb button');\n",
              "      quickchartButtonEl.style.display =\n",
              "        google.colab.kernel.accessAllowed ? 'block' : 'none';\n",
              "    })();\n",
              "  </script>\n",
              "</div>\n",
              "\n",
              "    </div>\n",
              "  </div>\n"
            ],
            "application/vnd.google.colaboratory.intrinsic+json": {
              "type": "dataframe",
              "variable_name": "drug_df",
              "summary": "{\n  \"name\": \"drug_df\",\n  \"rows\": 11981,\n  \"fields\": [\n    {\n      \"column\": \"Heroin\",\n      \"properties\": {\n        \"dtype\": \"boolean\",\n        \"num_unique_values\": 2,\n        \"samples\": [\n          true,\n          false\n        ],\n        \"semantic_type\": \"\",\n        \"description\": \"\"\n      }\n    },\n    {\n      \"column\": \"Cocaine\",\n      \"properties\": {\n        \"dtype\": \"boolean\",\n        \"num_unique_values\": 2,\n        \"samples\": [\n          false,\n          true\n        ],\n        \"semantic_type\": \"\",\n        \"description\": \"\"\n      }\n    },\n    {\n      \"column\": \"Fentanyl\",\n      \"properties\": {\n        \"dtype\": \"boolean\",\n        \"num_unique_values\": 2,\n        \"samples\": [\n          true,\n          false\n        ],\n        \"semantic_type\": \"\",\n        \"description\": \"\"\n      }\n    },\n    {\n      \"column\": \"Oxycodone\",\n      \"properties\": {\n        \"dtype\": \"boolean\",\n        \"num_unique_values\": 2,\n        \"samples\": [\n          true,\n          false\n        ],\n        \"semantic_type\": \"\",\n        \"description\": \"\"\n      }\n    },\n    {\n      \"column\": \"Oxymorphone\",\n      \"properties\": {\n        \"dtype\": \"boolean\",\n        \"num_unique_values\": 2,\n        \"samples\": [\n          true,\n          false\n        ],\n        \"semantic_type\": \"\",\n        \"description\": \"\"\n      }\n    },\n    {\n      \"column\": \"Ethanol\",\n      \"properties\": {\n        \"dtype\": \"boolean\",\n        \"num_unique_values\": 2,\n        \"samples\": [\n          true,\n          false\n        ],\n        \"semantic_type\": \"\",\n        \"description\": \"\"\n      }\n    },\n    {\n      \"column\": \"Hydrocodone\",\n      \"properties\": {\n        \"dtype\": \"boolean\",\n        \"num_unique_values\": 2,\n        \"samples\": [\n          true,\n          false\n        ],\n        \"semantic_type\": \"\",\n        \"description\": \"\"\n      }\n    },\n    {\n      \"column\": \"Benzodiazepine\",\n      \"properties\": {\n        \"dtype\": \"boolean\",\n        \"num_unique_values\": 2,\n        \"samples\": [\n          true,\n          false\n        ],\n        \"semantic_type\": \"\",\n        \"description\": \"\"\n      }\n    },\n    {\n      \"column\": \"Methadone\",\n      \"properties\": {\n        \"dtype\": \"boolean\",\n        \"num_unique_values\": 2,\n        \"samples\": [\n          true,\n          false\n        ],\n        \"semantic_type\": \"\",\n        \"description\": \"\"\n      }\n    },\n    {\n      \"column\": \"Meth/Amphetamine\",\n      \"properties\": {\n        \"dtype\": \"boolean\",\n        \"num_unique_values\": 2,\n        \"samples\": [\n          true,\n          false\n        ],\n        \"semantic_type\": \"\",\n        \"description\": \"\"\n      }\n    },\n    {\n      \"column\": \"Amphet\",\n      \"properties\": {\n        \"dtype\": \"boolean\",\n        \"num_unique_values\": 2,\n        \"samples\": [\n          true,\n          false\n        ],\n        \"semantic_type\": \"\",\n        \"description\": \"\"\n      }\n    },\n    {\n      \"column\": \"Tramad\",\n      \"properties\": {\n        \"dtype\": \"boolean\",\n        \"num_unique_values\": 2,\n        \"samples\": [\n          true,\n          false\n        ],\n        \"semantic_type\": \"\",\n        \"description\": \"\"\n      }\n    },\n    {\n      \"column\": \"Hydromorphone\",\n      \"properties\": {\n        \"dtype\": \"boolean\",\n        \"num_unique_values\": 2,\n        \"samples\": [\n          true,\n          false\n        ],\n        \"semantic_type\": \"\",\n        \"description\": \"\"\n      }\n    },\n    {\n      \"column\": \"Morphine (Not Heroin)\",\n      \"properties\": {\n        \"dtype\": \"boolean\",\n        \"num_unique_values\": 2,\n        \"samples\": [\n          true,\n          false\n        ],\n        \"semantic_type\": \"\",\n        \"description\": \"\"\n      }\n    },\n    {\n      \"column\": \"Xylazine\",\n      \"properties\": {\n        \"dtype\": \"boolean\",\n        \"num_unique_values\": 2,\n        \"samples\": [\n          true,\n          false\n        ],\n        \"semantic_type\": \"\",\n        \"description\": \"\"\n      }\n    },\n    {\n      \"column\": \"Gabapentin\",\n      \"properties\": {\n        \"dtype\": \"boolean\",\n        \"num_unique_values\": 2,\n        \"samples\": [\n          true,\n          false\n        ],\n        \"semantic_type\": \"\",\n        \"description\": \"\"\n      }\n    },\n    {\n      \"column\": \"Opiate NOS\",\n      \"properties\": {\n        \"dtype\": \"boolean\",\n        \"num_unique_values\": 2,\n        \"samples\": [\n          true,\n          false\n        ],\n        \"semantic_type\": \"\",\n        \"description\": \"\"\n      }\n    },\n    {\n      \"column\": \"Heroin/Morph/Codeine\",\n      \"properties\": {\n        \"dtype\": \"boolean\",\n        \"num_unique_values\": 2,\n        \"samples\": [\n          true,\n          false\n        ],\n        \"semantic_type\": \"\",\n        \"description\": \"\"\n      }\n    },\n    {\n      \"column\": \"Other Opioid\",\n      \"properties\": {\n        \"dtype\": \"boolean\",\n        \"num_unique_values\": 2,\n        \"samples\": [\n          true,\n          false\n        ],\n        \"semantic_type\": \"\",\n        \"description\": \"\"\n      }\n    },\n    {\n      \"column\": \"Any Opioid\",\n      \"properties\": {\n        \"dtype\": \"boolean\",\n        \"num_unique_values\": 2,\n        \"samples\": [\n          true,\n          false\n        ],\n        \"semantic_type\": \"\",\n        \"description\": \"\"\n      }\n    }\n  ]\n}"
            }
          },
          "metadata": {},
          "execution_count": 10
        }
      ]
    },
    {
      "cell_type": "markdown",
      "source": [
        "**Support Count for each drug**"
      ],
      "metadata": {
        "id": "BJRB5DK-fyPU"
      }
    },
    {
      "cell_type": "code",
      "source": [
        "print(drug_df.sum())"
      ],
      "metadata": {
        "colab": {
          "base_uri": "https://localhost:8080/",
          "height": 400
        },
        "id": "2VZfaO6ZfAhu",
        "outputId": "ec4d9857-3248-420e-8ddd-6236c7ded277"
      },
      "execution_count": 11,
      "outputs": [
        {
          "output_type": "display_data",
          "data": {
            "text/plain": [
              "<IPython.core.display.HTML object>"
            ],
            "text/html": [
              "\n",
              "  <style>\n",
              "    pre {\n",
              "        white-space: pre-wrap;\n",
              "    }\n",
              "  </style>\n",
              "  "
            ]
          },
          "metadata": {}
        },
        {
          "output_type": "stream",
          "name": "stdout",
          "text": [
            "Heroin                   3578\n",
            "Cocaine                  4578\n",
            "Fentanyl                 8049\n",
            "Oxycodone                1016\n",
            "Oxymorphone               162\n",
            "Ethanol                  3201\n",
            "Hydrocodone               169\n",
            "Benzodiazepine           2717\n",
            "Methadone                1078\n",
            "Meth/Amphetamine          127\n",
            "Amphet                    431\n",
            "Tramad                    302\n",
            "Hydromorphone              77\n",
            "Morphine (Not Heroin)      59\n",
            "Xylazine                 1078\n",
            "Gabapentin                469\n",
            "Opiate NOS                127\n",
            "Heroin/Morph/Codeine     2202\n",
            "Other Opioid              222\n",
            "Any Opioid               8947\n",
            "dtype: int64\n"
          ]
        }
      ]
    },
    {
      "cell_type": "markdown",
      "source": [
        "#5) Apriori Algorithm"
      ],
      "metadata": {
        "id": "tbUPAjHoRcR4"
      }
    },
    {
      "cell_type": "markdown",
      "source": [
        "*Measuring Runtime and Memory Usage (Before)*"
      ],
      "metadata": {
        "id": "5DR1rV76tLWo"
      }
    },
    {
      "cell_type": "code",
      "source": [
        "start_time_apriori = time.time()\n",
        "tracemalloc.start()"
      ],
      "metadata": {
        "colab": {
          "base_uri": "https://localhost:8080/",
          "height": 17
        },
        "id": "Wxu3KylItEgs",
        "outputId": "3c6d8acc-5af5-40e5-c0c4-7994cf669949"
      },
      "execution_count": 12,
      "outputs": [
        {
          "output_type": "display_data",
          "data": {
            "text/plain": [
              "<IPython.core.display.HTML object>"
            ],
            "text/html": [
              "\n",
              "  <style>\n",
              "    pre {\n",
              "        white-space: pre-wrap;\n",
              "    }\n",
              "  </style>\n",
              "  "
            ]
          },
          "metadata": {}
        }
      ]
    },
    {
      "cell_type": "markdown",
      "source": [
        "**i) Generate frequent itemsets**"
      ],
      "metadata": {
        "id": "T72uwEMRRk8x"
      }
    },
    {
      "cell_type": "code",
      "source": [
        "#Include only itemsets appearing in at least 10% of transactions\n",
        "frequent_itemsets_apriori = apriori(drug_df, min_support=0.1, use_colnames=True)\n",
        "#Convert support in percentage with 3 d.p.\n",
        "frequent_itemsets_apriori['support_percentage'] = frequent_itemsets_apriori['support'].apply(lambda x: f'{x:.3%}')\n",
        "#Sort itemsets in descending order\n",
        "frequent_itemsets_apriori = frequent_itemsets_apriori.sort_values(by=['support'], ascending=False)"
      ],
      "metadata": {
        "colab": {
          "base_uri": "https://localhost:8080/",
          "height": 17
        },
        "id": "JK8ScGclJLjO",
        "outputId": "40f6c604-e4c9-49f7-863f-5d3cc8b9f121"
      },
      "execution_count": 13,
      "outputs": [
        {
          "output_type": "display_data",
          "data": {
            "text/plain": [
              "<IPython.core.display.HTML object>"
            ],
            "text/html": [
              "\n",
              "  <style>\n",
              "    pre {\n",
              "        white-space: pre-wrap;\n",
              "    }\n",
              "  </style>\n",
              "  "
            ]
          },
          "metadata": {}
        }
      ]
    },
    {
      "cell_type": "markdown",
      "source": [
        "**ii) Generate association rules (based on Confidence)**"
      ],
      "metadata": {
        "id": "hX4sOS6dRu1H"
      }
    },
    {
      "cell_type": "markdown",
      "source": [
        "*Confidence measures how often a rule is true, in this case at least 60% (min_threshold=0.6)*"
      ],
      "metadata": {
        "id": "cWBlPgAZV84O"
      }
    },
    {
      "cell_type": "code",
      "source": [
        "rules_apriori = association_rules(frequent_itemsets_apriori, metric=\"confidence\", min_threshold=0.6)"
      ],
      "metadata": {
        "id": "5A1vYXezRtzm",
        "colab": {
          "base_uri": "https://localhost:8080/",
          "height": 17
        },
        "outputId": "130ebf63-8f6d-46d8-f1dc-b2225a015968"
      },
      "execution_count": 14,
      "outputs": [
        {
          "output_type": "display_data",
          "data": {
            "text/plain": [
              "<IPython.core.display.HTML object>"
            ],
            "text/html": [
              "\n",
              "  <style>\n",
              "    pre {\n",
              "        white-space: pre-wrap;\n",
              "    }\n",
              "  </style>\n",
              "  "
            ]
          },
          "metadata": {}
        }
      ]
    },
    {
      "cell_type": "markdown",
      "source": [
        "*Measuring Runtime and Memory Usage (After)*"
      ],
      "metadata": {
        "id": "YcTYnDmNtbTp"
      }
    },
    {
      "cell_type": "code",
      "source": [
        "end_time_apriori = time.time()\n",
        "runtime_apriori = end_time_apriori - start_time_apriori\n",
        "current, peak = tracemalloc.get_traced_memory()\n",
        "tracemalloc.stop()\n",
        "memory_usage_apriori = peak / 10**6  #Convert to MB"
      ],
      "metadata": {
        "colab": {
          "base_uri": "https://localhost:8080/",
          "height": 17
        },
        "id": "0lG_9-p6tWZ9",
        "outputId": "9e1e2568-1e6c-4a53-f364-43c23d443f57"
      },
      "execution_count": 15,
      "outputs": [
        {
          "output_type": "display_data",
          "data": {
            "text/plain": [
              "<IPython.core.display.HTML object>"
            ],
            "text/html": [
              "\n",
              "  <style>\n",
              "    pre {\n",
              "        white-space: pre-wrap;\n",
              "    }\n",
              "  </style>\n",
              "  "
            ]
          },
          "metadata": {}
        }
      ]
    },
    {
      "cell_type": "markdown",
      "source": [
        "#6) FP-Growth Algorithm"
      ],
      "metadata": {
        "id": "0Cen3S8mUSzy"
      }
    },
    {
      "cell_type": "markdown",
      "source": [
        "*Measuring Runtime and Memory Usage (Before)*"
      ],
      "metadata": {
        "id": "UVQ8FoOguUt-"
      }
    },
    {
      "cell_type": "code",
      "source": [
        "start_time_fp = time.time()\n",
        "tracemalloc.start()"
      ],
      "metadata": {
        "colab": {
          "base_uri": "https://localhost:8080/",
          "height": 17
        },
        "id": "OZYA6beBuGRX",
        "outputId": "caf1b437-e8a8-41ec-94c2-f91b82981dff"
      },
      "execution_count": 16,
      "outputs": [
        {
          "output_type": "display_data",
          "data": {
            "text/plain": [
              "<IPython.core.display.HTML object>"
            ],
            "text/html": [
              "\n",
              "  <style>\n",
              "    pre {\n",
              "        white-space: pre-wrap;\n",
              "    }\n",
              "  </style>\n",
              "  "
            ]
          },
          "metadata": {}
        }
      ]
    },
    {
      "cell_type": "markdown",
      "source": [
        "**i) Generate frequent itemsets**"
      ],
      "metadata": {
        "id": "NmYBNshYUjvV"
      }
    },
    {
      "cell_type": "code",
      "source": [
        "#Include only itemsets appearing in at least 10% of transactions\n",
        "frequent_itemsets_fp = fpgrowth(drug_df, min_support=0.1, use_colnames=True)\n",
        "#Convert support in percentage with 3 d.p.\n",
        "frequent_itemsets_fp['support_percentage'] = frequent_itemsets_fp['support'].apply(lambda x: f'{x:.3%}')\n",
        "#Sort itemsets in descending order\n",
        "frequent_itemsets_fp = frequent_itemsets_fp.sort_values(by=['support'], ascending=False)"
      ],
      "metadata": {
        "colab": {
          "base_uri": "https://localhost:8080/",
          "height": 17
        },
        "id": "LrGCs5zRURap",
        "outputId": "50d8dcf5-6851-4596-dae0-15b4bbb439a7"
      },
      "execution_count": 17,
      "outputs": [
        {
          "output_type": "display_data",
          "data": {
            "text/plain": [
              "<IPython.core.display.HTML object>"
            ],
            "text/html": [
              "\n",
              "  <style>\n",
              "    pre {\n",
              "        white-space: pre-wrap;\n",
              "    }\n",
              "  </style>\n",
              "  "
            ]
          },
          "metadata": {}
        }
      ]
    },
    {
      "cell_type": "markdown",
      "source": [
        "**ii) Generate association rules**"
      ],
      "metadata": {
        "id": "O-x9ILXtU1M1"
      }
    },
    {
      "cell_type": "markdown",
      "source": [
        "*Confidence measures how often a rule is true, in this case at least 60% (min_threshold=0.6)*"
      ],
      "metadata": {
        "id": "BM3tITSWh-ND"
      }
    },
    {
      "cell_type": "code",
      "source": [
        "rules_fp = association_rules(frequent_itemsets_fp, metric=\"confidence\", min_threshold=0.6)"
      ],
      "metadata": {
        "id": "DimDhwRWUmgY",
        "colab": {
          "base_uri": "https://localhost:8080/",
          "height": 17
        },
        "outputId": "2a97b1ee-20ca-461a-98ff-f8998be1304e"
      },
      "execution_count": 18,
      "outputs": [
        {
          "output_type": "display_data",
          "data": {
            "text/plain": [
              "<IPython.core.display.HTML object>"
            ],
            "text/html": [
              "\n",
              "  <style>\n",
              "    pre {\n",
              "        white-space: pre-wrap;\n",
              "    }\n",
              "  </style>\n",
              "  "
            ]
          },
          "metadata": {}
        }
      ]
    },
    {
      "cell_type": "markdown",
      "source": [
        "*Measuring Runtime and Memory Usage (After)*"
      ],
      "metadata": {
        "id": "dxDG3mF3uPZI"
      }
    },
    {
      "cell_type": "code",
      "source": [
        "end_time_fp = time.time()\n",
        "runtime_fp = end_time_fp - start_time_fp\n",
        "current, peak = tracemalloc.get_traced_memory()\n",
        "tracemalloc.stop()\n",
        "memory_usage_fp = peak / 10**6  #Convert to MB"
      ],
      "metadata": {
        "colab": {
          "base_uri": "https://localhost:8080/",
          "height": 17
        },
        "id": "XdMpYN1WuLW4",
        "outputId": "793233e2-df41-40b5-8635-9b7eb30e24b8"
      },
      "execution_count": 19,
      "outputs": [
        {
          "output_type": "display_data",
          "data": {
            "text/plain": [
              "<IPython.core.display.HTML object>"
            ],
            "text/html": [
              "\n",
              "  <style>\n",
              "    pre {\n",
              "        white-space: pre-wrap;\n",
              "    }\n",
              "  </style>\n",
              "  "
            ]
          },
          "metadata": {}
        }
      ]
    },
    {
      "cell_type": "markdown",
      "source": [
        "#7) Frequent Itemsets"
      ],
      "metadata": {
        "id": "_3-W33rnVFBE"
      }
    },
    {
      "cell_type": "markdown",
      "source": [
        "**i) Apriori**"
      ],
      "metadata": {
        "id": "HL_ffO56hIea"
      }
    },
    {
      "cell_type": "code",
      "source": [
        "#Filter itemsets with more than 1 item\n",
        "filtered_itemsets_ap = frequent_itemsets_apriori[frequent_itemsets_apriori['itemsets'].apply(lambda x: len(x) > 1)]\n",
        "print(\"\\nFrequent Itemsets by Support (%) using Apriori:\")\n",
        "print(filtered_itemsets_ap[['support_percentage', 'itemsets']])"
      ],
      "metadata": {
        "colab": {
          "base_uri": "https://localhost:8080/",
          "height": 436
        },
        "id": "Kop8WfFWYAjk",
        "outputId": "d84d0ca4-ab10-4117-c087-565fe69c43c9"
      },
      "execution_count": 20,
      "outputs": [
        {
          "output_type": "display_data",
          "data": {
            "text/plain": [
              "<IPython.core.display.HTML object>"
            ],
            "text/html": [
              "\n",
              "  <style>\n",
              "    pre {\n",
              "        white-space: pre-wrap;\n",
              "    }\n",
              "  </style>\n",
              "  "
            ]
          },
          "metadata": {}
        },
        {
          "output_type": "stream",
          "name": "stdout",
          "text": [
            "\n",
            "Frequent Itemsets by Support (%) using Apriori:\n",
            "   support_percentage                                           itemsets\n",
            "15            60.429%                             (Any Opioid, Fentanyl)\n",
            "11            29.221%                              (Any Opioid, Cocaine)\n",
            "10            27.727%                                (Fentanyl, Cocaine)\n",
            "22            25.616%                    (Any Opioid, Fentanyl, Cocaine)\n",
            "16            20.290%                              (Ethanol, Any Opioid)\n",
            "9             19.556%                               (Any Opioid, Heroin)\n",
            "18            18.321%                 (Heroin/Morph/Codeine, Any Opioid)\n",
            "12            18.154%                                (Ethanol, Fentanyl)\n",
            "8             17.386%                     (Heroin/Morph/Codeine, Heroin)\n",
            "21            17.361%         (Heroin/Morph/Codeine, Any Opioid, Heroin)\n",
            "7             16.860%                                 (Heroin, Fentanyl)\n",
            "17            16.509%                       (Any Opioid, Benzodiazepine)\n",
            "23            16.484%                    (Ethanol, Any Opioid, Fentanyl)\n",
            "20            13.672%                     (Any Opioid, Heroin, Fentanyl)\n",
            "13            13.363%                         (Benzodiazepine, Fentanyl)\n",
            "14            11.844%                   (Heroin/Morph/Codeine, Fentanyl)\n",
            "25            11.810%       (Heroin/Morph/Codeine, Any Opioid, Fentanyl)\n",
            "19            11.643%           (Heroin/Morph/Codeine, Heroin, Fentanyl)\n",
            "26            11.635%  (Heroin/Morph/Codeine, Any Opioid, Heroin, Fen...\n",
            "24            11.577%             (Any Opioid, Fentanyl, Benzodiazepine)\n"
          ]
        }
      ]
    },
    {
      "cell_type": "markdown",
      "source": [
        "**ii) FP-Growth**"
      ],
      "metadata": {
        "id": "mEIT_NJKhOZY"
      }
    },
    {
      "cell_type": "code",
      "source": [
        "#Filter itemsets with more than 1 item\n",
        "filtered_itemsets_fp = frequent_itemsets_fp[frequent_itemsets_fp['itemsets'].apply(lambda x: len(x) > 1)]\n",
        "print(\"\\nFrequent Itemsets by Support (%) using FP-Growth:\")\n",
        "print(filtered_itemsets_fp[['support_percentage', 'itemsets']])"
      ],
      "metadata": {
        "colab": {
          "base_uri": "https://localhost:8080/",
          "height": 436
        },
        "id": "Ub8EzxjwhNN7",
        "outputId": "94b9ffdf-ee24-4ce0-81dc-2450d897da35"
      },
      "execution_count": 21,
      "outputs": [
        {
          "output_type": "display_data",
          "data": {
            "text/plain": [
              "<IPython.core.display.HTML object>"
            ],
            "text/html": [
              "\n",
              "  <style>\n",
              "    pre {\n",
              "        white-space: pre-wrap;\n",
              "    }\n",
              "  </style>\n",
              "  "
            ]
          },
          "metadata": {}
        },
        {
          "output_type": "stream",
          "name": "stdout",
          "text": [
            "\n",
            "Frequent Itemsets by Support (%) using FP-Growth:\n",
            "   support_percentage                                           itemsets\n",
            "13            60.429%                             (Any Opioid, Fentanyl)\n",
            "7             29.221%                              (Any Opioid, Cocaine)\n",
            "8             27.727%                                (Fentanyl, Cocaine)\n",
            "9             25.616%                    (Any Opioid, Fentanyl, Cocaine)\n",
            "21            20.290%                              (Ethanol, Any Opioid)\n",
            "10            19.556%                               (Any Opioid, Heroin)\n",
            "14            18.321%                 (Heroin/Morph/Codeine, Any Opioid)\n",
            "22            18.154%                                (Ethanol, Fentanyl)\n",
            "15            17.386%                     (Heroin/Morph/Codeine, Heroin)\n",
            "17            17.361%         (Heroin/Morph/Codeine, Any Opioid, Heroin)\n",
            "11            16.860%                                 (Heroin, Fentanyl)\n",
            "24            16.509%                       (Any Opioid, Benzodiazepine)\n",
            "23            16.484%                    (Ethanol, Any Opioid, Fentanyl)\n",
            "12            13.672%                     (Any Opioid, Heroin, Fentanyl)\n",
            "25            13.363%                         (Benzodiazepine, Fentanyl)\n",
            "16            11.844%                   (Heroin/Morph/Codeine, Fentanyl)\n",
            "18            11.810%       (Heroin/Morph/Codeine, Any Opioid, Fentanyl)\n",
            "19            11.643%           (Heroin/Morph/Codeine, Heroin, Fentanyl)\n",
            "20            11.635%  (Heroin/Morph/Codeine, Any Opioid, Heroin, Fen...\n",
            "26            11.577%             (Any Opioid, Fentanyl, Benzodiazepine)\n"
          ]
        }
      ]
    },
    {
      "cell_type": "markdown",
      "source": [
        "#8) Association Rules"
      ],
      "metadata": {
        "id": "y_M6hk8hVKXZ"
      }
    },
    {
      "cell_type": "markdown",
      "source": [
        "**i) Apriori**"
      ],
      "metadata": {
        "id": "F3hJZS8ah1hz"
      }
    },
    {
      "cell_type": "code",
      "source": [
        "print(\"\\nAssociation Rules (Apriori):\")\n",
        "\n",
        "#Include only these rules\n",
        "rules_apriori_formatted = rules_apriori[['antecedents', 'consequents', 'support', 'confidence', 'lift']]\n",
        "\n",
        "#Define rules to convert to percentage\n",
        "apriori_percent_cols = ['support', 'confidence']\n",
        "\n",
        "#Filter rules for confidence > 80% & lift > 2\n",
        "rules_apriori_formatted = rules_apriori_formatted[\n",
        "    (rules_apriori_formatted['confidence'] > 0.8) & (rules_apriori_formatted['lift'] > 2)]\n",
        "\n",
        "#Convert apriori_percent_cols into percentage with 3 d.p.\n",
        "for col in apriori_percent_cols:\n",
        "    rules_apriori_formatted[col] = rules_apriori_formatted[col].map(lambda x: f'{x:.3%}')\n",
        "\n",
        "#Sort rules by confidence, then lift\n",
        "rules_apriori_formatted = rules_apriori_formatted.sort_values(by=['confidence', 'lift'], ascending=[False, False])\n",
        "\n",
        "print(rules_apriori_formatted)"
      ],
      "metadata": {
        "colab": {
          "base_uri": "https://localhost:8080/",
          "height": 400
        },
        "id": "Sha0zxNYYI5J",
        "outputId": "fc59d950-20e3-47b1-b95c-6390de312131"
      },
      "execution_count": 22,
      "outputs": [
        {
          "output_type": "display_data",
          "data": {
            "text/plain": [
              "<IPython.core.display.HTML object>"
            ],
            "text/html": [
              "\n",
              "  <style>\n",
              "    pre {\n",
              "        white-space: pre-wrap;\n",
              "    }\n",
              "  </style>\n",
              "  "
            ]
          },
          "metadata": {}
        },
        {
          "output_type": "stream",
          "name": "stdout",
          "text": [
            "\n",
            "Association Rules (Apriori):\n",
            "                                     antecedents             consequents  \\\n",
            "31  (Heroin/Morph/Codeine, Any Opioid, Fentanyl)                (Heroin)   \n",
            "27              (Heroin/Morph/Codeine, Fentanyl)                (Heroin)   \n",
            "36              (Heroin/Morph/Codeine, Fentanyl)    (Any Opioid, Heroin)   \n",
            "12            (Heroin/Morph/Codeine, Any Opioid)                (Heroin)   \n",
            "11                        (Heroin/Morph/Codeine)                (Heroin)   \n",
            "15                        (Heroin/Morph/Codeine)    (Any Opioid, Heroin)   \n",
            "14                          (Any Opioid, Heroin)  (Heroin/Morph/Codeine)   \n",
            "33                (Any Opioid, Heroin, Fentanyl)  (Heroin/Morph/Codeine)   \n",
            "\n",
            "    support confidence      lift  \n",
            "31  11.635%    98.516%  3.298823  \n",
            "27  11.643%    98.309%  3.291884  \n",
            "36  11.635%    98.238%  5.023439  \n",
            "12  17.361%    94.761%  3.173084  \n",
            "11  17.386%    94.596%  3.167559  \n",
            "15  17.361%    94.460%  4.830219  \n",
            "14  17.361%    88.775%  4.830219  \n",
            "33  11.635%    85.104%  4.630465  \n"
          ]
        }
      ]
    },
    {
      "cell_type": "markdown",
      "source": [
        "**ii) FP-Growth**"
      ],
      "metadata": {
        "id": "fZ2h8oTrh7bo"
      }
    },
    {
      "cell_type": "code",
      "source": [
        "print(\"\\nAssociation Rules (FP-Growth):\")\n",
        "\n",
        "#Include only these rules\n",
        "rules_fp_formatted = rules_fp[['antecedents','consequents', 'support', 'confidence', 'lift']]\n",
        "\n",
        "#Define rules to convert to percentage\n",
        "fp_percent_cols = ['support', 'confidence']\n",
        "\n",
        "#Filter rules for confidence > 80% & lift > 2\n",
        "rules_fp_formatted = rules_fp_formatted[\n",
        "    (rules_fp_formatted['confidence'] > 0.8) & (rules_fp_formatted['lift'] > 2)]\n",
        "\n",
        "#Convert fp_percent_cols into percentage with 3 d.p.\n",
        "for col in fp_percent_cols:\n",
        "    rules_fp_formatted[col] = rules_fp_formatted[col].map(lambda x: f'{x:.3%}')\n",
        "\n",
        "#Sort rules by confidence, then lift\n",
        "rules_fp_formatted = rules_fp_formatted.sort_values(by=['confidence', 'lift'], ascending=[False,False])\n",
        "\n",
        "print(rules_fp_formatted)"
      ],
      "metadata": {
        "colab": {
          "base_uri": "https://localhost:8080/",
          "height": 400
        },
        "id": "IO3weTbNh61_",
        "outputId": "a7439aec-c226-4fa4-ceb8-35656ad35293"
      },
      "execution_count": 23,
      "outputs": [
        {
          "output_type": "display_data",
          "data": {
            "text/plain": [
              "<IPython.core.display.HTML object>"
            ],
            "text/html": [
              "\n",
              "  <style>\n",
              "    pre {\n",
              "        white-space: pre-wrap;\n",
              "    }\n",
              "  </style>\n",
              "  "
            ]
          },
          "metadata": {}
        },
        {
          "output_type": "stream",
          "name": "stdout",
          "text": [
            "\n",
            "Association Rules (FP-Growth):\n",
            "                                     antecedents             consequents  \\\n",
            "31  (Heroin/Morph/Codeine, Any Opioid, Fentanyl)                (Heroin)   \n",
            "27              (Heroin/Morph/Codeine, Fentanyl)                (Heroin)   \n",
            "36              (Heroin/Morph/Codeine, Fentanyl)    (Any Opioid, Heroin)   \n",
            "12            (Heroin/Morph/Codeine, Any Opioid)                (Heroin)   \n",
            "11                        (Heroin/Morph/Codeine)                (Heroin)   \n",
            "15                        (Heroin/Morph/Codeine)    (Any Opioid, Heroin)   \n",
            "14                          (Any Opioid, Heroin)  (Heroin/Morph/Codeine)   \n",
            "33                (Any Opioid, Heroin, Fentanyl)  (Heroin/Morph/Codeine)   \n",
            "\n",
            "    support confidence      lift  \n",
            "31  11.635%    98.516%  3.298823  \n",
            "27  11.643%    98.309%  3.291884  \n",
            "36  11.635%    98.238%  5.023439  \n",
            "12  17.361%    94.761%  3.173084  \n",
            "11  17.386%    94.596%  3.167559  \n",
            "15  17.361%    94.460%  4.830219  \n",
            "14  17.361%    88.775%  4.830219  \n",
            "33  11.635%    85.104%  4.630465  \n"
          ]
        }
      ]
    },
    {
      "cell_type": "markdown",
      "source": [
        "#10) Runtime & Memory Usage"
      ],
      "metadata": {
        "id": "zBaH5kAJuY-V"
      }
    },
    {
      "cell_type": "code",
      "source": [
        "print(\"\\nApriori Algorithm:\")\n",
        "print(f\"Runtime: {runtime_apriori:.3f} seconds\")\n",
        "print(f\"Memory Usage: {memory_usage_apriori:.3f} MB\")\n",
        "\n",
        "print(\"\\nFP-Growth Algorithm:\")\n",
        "print(f\"Runtime: {runtime_fp:.3f} seconds\")\n",
        "print(f\"Memory Usage: {memory_usage_fp:.3f} MB\")"
      ],
      "metadata": {
        "colab": {
          "base_uri": "https://localhost:8080/",
          "height": 163
        },
        "id": "kQHWQVRNuj3P",
        "outputId": "efb3c5ad-3b0a-4c50-86fd-19edad13e50c"
      },
      "execution_count": 24,
      "outputs": [
        {
          "output_type": "display_data",
          "data": {
            "text/plain": [
              "<IPython.core.display.HTML object>"
            ],
            "text/html": [
              "\n",
              "  <style>\n",
              "    pre {\n",
              "        white-space: pre-wrap;\n",
              "    }\n",
              "  </style>\n",
              "  "
            ]
          },
          "metadata": {}
        },
        {
          "output_type": "stream",
          "name": "stdout",
          "text": [
            "\n",
            "Apriori Algorithm:\n",
            "Runtime: 0.176 seconds\n",
            "Memory Usage: 1.109 MB\n",
            "\n",
            "FP-Growth Algorithm:\n",
            "Runtime: 16.836 seconds\n",
            "Memory Usage: 4.415 MB\n"
          ]
        }
      ]
    }
  ]
}